{
 "cells": [
  {
   "cell_type": "code",
   "execution_count": 2,
   "id": "3796a42a",
   "metadata": {},
   "outputs": [
    {
     "name": "stdout",
     "output_type": "stream",
     "text": [
      "Requirement already satisfied: numpy in c:\\users\\ravin\\anaconda3\\lib\\site-packages (1.21.5)\n",
      "Requirement already satisfied: pandas in c:\\users\\ravin\\anaconda3\\lib\\site-packages (1.4.4)\n",
      "Requirement already satisfied: numpy>=1.18.5 in c:\\users\\ravin\\anaconda3\\lib\\site-packages (from pandas) (1.21.5)\n",
      "Requirement already satisfied: python-dateutil>=2.8.1 in c:\\users\\ravin\\anaconda3\\lib\\site-packages (from pandas) (2.8.2)\n",
      "Requirement already satisfied: pytz>=2020.1 in c:\\users\\ravin\\anaconda3\\lib\\site-packages (from pandas) (2022.1)\n",
      "Requirement already satisfied: six>=1.5 in c:\\users\\ravin\\anaconda3\\lib\\site-packages (from python-dateutil>=2.8.1->pandas) (1.16.0)\n"
     ]
    }
   ],
   "source": [
    "!pip install numpy\n",
    "!pip install pandas"
   ]
  },
  {
   "cell_type": "code",
   "execution_count": 3,
   "id": "8c67c8dd",
   "metadata": {},
   "outputs": [],
   "source": [
    "import numpy as np\n",
    "import pandas as pd"
   ]
  },
  {
   "cell_type": "code",
   "execution_count": 4,
   "id": "fd0a780c",
   "metadata": {},
   "outputs": [],
   "source": [
    "data = pd.read_csv('TESTDATASET.csv', encoding='latin-1')"
   ]
  },
  {
   "cell_type": "code",
   "execution_count": 5,
   "id": "f2c90d2f",
   "metadata": {},
   "outputs": [
    {
     "data": {
      "text/html": [
       "<div>\n",
       "<style scoped>\n",
       "    .dataframe tbody tr th:only-of-type {\n",
       "        vertical-align: middle;\n",
       "    }\n",
       "\n",
       "    .dataframe tbody tr th {\n",
       "        vertical-align: top;\n",
       "    }\n",
       "\n",
       "    .dataframe thead th {\n",
       "        text-align: right;\n",
       "    }\n",
       "</style>\n",
       "<table border=\"1\" class=\"dataframe\">\n",
       "  <thead>\n",
       "    <tr style=\"text-align: right;\">\n",
       "      <th></th>\n",
       "      <th>NO</th>\n",
       "      <th>SUPPLIER</th>\n",
       "      <th>DATE</th>\n",
       "      <th>WEHICAL</th>\n",
       "      <th>WEIGHT</th>\n",
       "      <th>AMOUNT</th>\n",
       "      <th>RATE</th>\n",
       "      <th>MONTH</th>\n",
       "      <th>FIREWOOD TYPE</th>\n",
       "      <th>RAINY SEASON</th>\n",
       "    </tr>\n",
       "  </thead>\n",
       "  <tbody>\n",
       "    <tr>\n",
       "      <th>0</th>\n",
       "      <td>1</td>\n",
       "      <td>DHARMAWARDHANA</td>\n",
       "      <td>5/10/2020</td>\n",
       "      <td>AB-3808</td>\n",
       "      <td>2210</td>\n",
       "      <td>8840</td>\n",
       "      <td>4.0</td>\n",
       "      <td>May</td>\n",
       "      <td>Jackfruit</td>\n",
       "      <td>1</td>\n",
       "    </tr>\n",
       "    <tr>\n",
       "      <th>1</th>\n",
       "      <td>2</td>\n",
       "      <td>DHARMAWARDHANA</td>\n",
       "      <td>5/11/2020</td>\n",
       "      <td>LD-9656</td>\n",
       "      <td>2100</td>\n",
       "      <td>8400</td>\n",
       "      <td>4.0</td>\n",
       "      <td>May</td>\n",
       "      <td>Mahogany</td>\n",
       "      <td>1</td>\n",
       "    </tr>\n",
       "    <tr>\n",
       "      <th>2</th>\n",
       "      <td>3</td>\n",
       "      <td>DHARMAWARDHANA</td>\n",
       "      <td>5/11/2020</td>\n",
       "      <td>49-5794</td>\n",
       "      <td>2970</td>\n",
       "      <td>11880</td>\n",
       "      <td>4.0</td>\n",
       "      <td>May</td>\n",
       "      <td>Teak</td>\n",
       "      <td>1</td>\n",
       "    </tr>\n",
       "    <tr>\n",
       "      <th>3</th>\n",
       "      <td>4</td>\n",
       "      <td>DHARMAWARDHANA</td>\n",
       "      <td>5/11/2020</td>\n",
       "      <td>PU-9815</td>\n",
       "      <td>2280</td>\n",
       "      <td>9120</td>\n",
       "      <td>4.0</td>\n",
       "      <td>May</td>\n",
       "      <td>Cashew</td>\n",
       "      <td>1</td>\n",
       "    </tr>\n",
       "    <tr>\n",
       "      <th>4</th>\n",
       "      <td>5</td>\n",
       "      <td>DHARMAWARDHANA</td>\n",
       "      <td>5/12/2020</td>\n",
       "      <td>GF-8446</td>\n",
       "      <td>2390</td>\n",
       "      <td>9560</td>\n",
       "      <td>4.0</td>\n",
       "      <td>May</td>\n",
       "      <td>Mango</td>\n",
       "      <td>1</td>\n",
       "    </tr>\n",
       "  </tbody>\n",
       "</table>\n",
       "</div>"
      ],
      "text/plain": [
       "   NO        SUPPLIER       DATE  WEHICAL  WEIGHT  AMOUNT  RATE MONTH  \\\n",
       "0   1  DHARMAWARDHANA  5/10/2020  AB-3808    2210    8840   4.0   May   \n",
       "1   2  DHARMAWARDHANA  5/11/2020  LD-9656    2100    8400   4.0   May   \n",
       "2   3  DHARMAWARDHANA  5/11/2020  49-5794    2970   11880   4.0   May   \n",
       "3   4  DHARMAWARDHANA  5/11/2020  PU-9815    2280    9120   4.0   May   \n",
       "4   5  DHARMAWARDHANA  5/12/2020  GF-8446    2390    9560   4.0   May   \n",
       "\n",
       "  FIREWOOD TYPE  RAINY SEASON  \n",
       "0     Jackfruit             1  \n",
       "1      Mahogany             1  \n",
       "2          Teak             1  \n",
       "3        Cashew             1  \n",
       "4         Mango             1  "
      ]
     },
     "execution_count": 5,
     "metadata": {},
     "output_type": "execute_result"
    }
   ],
   "source": [
    "data.head()"
   ]
  },
  {
   "cell_type": "code",
   "execution_count": 6,
   "id": "e6607a0f",
   "metadata": {},
   "outputs": [
    {
     "name": "stdout",
     "output_type": "stream",
     "text": [
      "(2290, 10)\n",
      "<bound method DataFrame.info of         NO        SUPPLIER       DATE   WEHICAL  WEIGHT  AMOUNT  RATE  \\\n",
      "0        1  DHARMAWARDHANA  5/10/2020   AB-3808    2210    8840   4.0   \n",
      "1        2  DHARMAWARDHANA  5/11/2020   LD-9656    2100    8400   4.0   \n",
      "2        3  DHARMAWARDHANA  5/11/2020   49-5794    2970   11880   4.0   \n",
      "3        4  DHARMAWARDHANA  5/11/2020   PU-9815    2280    9120   4.0   \n",
      "4        5  DHARMAWARDHANA  5/12/2020   GF-8446    2390    9560   4.0   \n",
      "...    ...             ...        ...       ...     ...     ...   ...   \n",
      "2285  2286  DHARMAWARDHANA   9/5/2022   68-1405    2660   31920  12.0   \n",
      "2286  2287  DHARMAWARDHANA   9/5/2022   41-6026    2170   26040  12.0   \n",
      "2287  2288  DHARMAWARDHANA   9/5/2022  226-9101    2510   30120  12.0   \n",
      "2288  2289  DHARMAWARDHANA   9/5/2022   LB-3070    1760   21120  12.0   \n",
      "2289  2290  DHARMAWARDHANA   9/5/2022   PT-7212    4940   59280  12.0   \n",
      "\n",
      "          MONTH FIREWOOD TYPE  RAINY SEASON  \n",
      "0           May     Jackfruit             1  \n",
      "1           May      Mahogany             1  \n",
      "2           May          Teak             1  \n",
      "3           May        Cashew             1  \n",
      "4           May         Mango             1  \n",
      "...         ...           ...           ...  \n",
      "2285  September          Mara             0  \n",
      "2286  September      Mahogany             0  \n",
      "2287  September      Mahogany             0  \n",
      "2288  September      Mahogany             0  \n",
      "2289  September      Mahogany             0  \n",
      "\n",
      "[2290 rows x 10 columns]>\n",
      "   NO        SUPPLIER       DATE  WEHICAL  WEIGHT  AMOUNT  RATE MONTH  \\\n",
      "0   1  DHARMAWARDHANA  5/10/2020  AB-3808    2210    8840   4.0   May   \n",
      "1   2  DHARMAWARDHANA  5/11/2020  LD-9656    2100    8400   4.0   May   \n",
      "2   3  DHARMAWARDHANA  5/11/2020  49-5794    2970   11880   4.0   May   \n",
      "3   4  DHARMAWARDHANA  5/11/2020  PU-9815    2280    9120   4.0   May   \n",
      "4   5  DHARMAWARDHANA  5/12/2020  GF-8446    2390    9560   4.0   May   \n",
      "\n",
      "  FIREWOOD TYPE  RAINY SEASON  \n",
      "0     Jackfruit             1  \n",
      "1      Mahogany             1  \n",
      "2          Teak             1  \n",
      "3        Cashew             1  \n",
      "4         Mango             1  \n",
      "               count          mean           std     min       25%      50%  \\\n",
      "NO            2290.0   1145.500000    661.210380     1.0    573.25   1145.5   \n",
      "WEIGHT        2290.0   2819.820961   4019.117119   300.0   1982.50   2380.0   \n",
      "AMOUNT        2290.0  17842.222707  23531.295638  1200.0  10340.00  13805.0   \n",
      "RATE          2290.0      6.437118      2.909772     4.0      4.50      5.5   \n",
      "RAINY SEASON  2290.0      0.454148      0.498002     0.0      0.00      0.0   \n",
      "\n",
      "                   75%       max  \n",
      "NO             1717.75    2290.0  \n",
      "WEIGHT         3110.00  136550.0  \n",
      "AMOUNT        20871.25  751025.0  \n",
      "RATE              5.50      15.0  \n",
      "RAINY SEASON      1.00       1.0  \n"
     ]
    }
   ],
   "source": [
    "def analzeData(data):\n",
    "    print (data.shape)\n",
    "    print (data.info)\n",
    "    print (data.head())\n",
    "    print(data.describe().transpose())\n",
    "    \n",
    "analzeData(data)"
   ]
  },
  {
   "cell_type": "code",
   "execution_count": 7,
   "id": "4ea6601a",
   "metadata": {},
   "outputs": [
    {
     "data": {
      "text/plain": [
       "(2290, 10)"
      ]
     },
     "execution_count": 7,
     "metadata": {},
     "output_type": "execute_result"
    }
   ],
   "source": [
    "data.shape"
   ]
  },
  {
   "cell_type": "code",
   "execution_count": 8,
   "id": "4240f88a",
   "metadata": {},
   "outputs": [
    {
     "data": {
      "text/plain": [
       "NO              0.139410\n",
       "WEIGHT          0.937491\n",
       "AMOUNT          1.000000\n",
       "RATE            0.292463\n",
       "RAINY SEASON    0.058449\n",
       "Name: AMOUNT, dtype: float64"
      ]
     },
     "execution_count": 8,
     "metadata": {},
     "output_type": "execute_result"
    }
   ],
   "source": [
    "data.corr()['AMOUNT']"
   ]
  },
  {
   "cell_type": "code",
   "execution_count": 9,
   "id": "31a78ee6",
   "metadata": {
    "scrolled": true
   },
   "outputs": [
    {
     "data": {
      "text/plain": [
       "Mango        432\n",
       "Teak         378\n",
       "Cashew       315\n",
       "Halmilla     290\n",
       "Mahogany     194\n",
       "Mara         192\n",
       "Palu         130\n",
       "Nedun        125\n",
       "Kohomba      118\n",
       "Jackfruit    116\n",
       "Name: FIREWOOD TYPE, dtype: int64"
      ]
     },
     "execution_count": 9,
     "metadata": {},
     "output_type": "execute_result"
    }
   ],
   "source": [
    "data['FIREWOOD TYPE'].value_counts()"
   ]
  },
  {
   "cell_type": "code",
   "execution_count": 10,
   "id": "bae0776a",
   "metadata": {},
   "outputs": [],
   "source": [
    "def add_WOOD(inpt):\n",
    "    if inpt == 'Palu' or inpt == 'Nedun' or inpt == 'Kohomba' or inpt == 'Jackfruit':\n",
    "        return 'Other'\n",
    "    else:\n",
    "        return inpt"
   ]
  },
  {
   "cell_type": "code",
   "execution_count": 11,
   "id": "62aac81c",
   "metadata": {},
   "outputs": [],
   "source": [
    "data['FIREWOOD TYPE'] = data['FIREWOOD TYPE'].apply(add_WOOD)"
   ]
  },
  {
   "cell_type": "code",
   "execution_count": 12,
   "id": "b1ab97a7",
   "metadata": {},
   "outputs": [
    {
     "data": {
      "text/plain": [
       "Other       489\n",
       "Mango       432\n",
       "Teak        378\n",
       "Cashew      315\n",
       "Halmilla    290\n",
       "Mahogany    194\n",
       "Mara        192\n",
       "Name: FIREWOOD TYPE, dtype: int64"
      ]
     },
     "execution_count": 12,
     "metadata": {},
     "output_type": "execute_result"
    }
   ],
   "source": [
    "data['FIREWOOD TYPE'].value_counts()"
   ]
  },
  {
   "cell_type": "markdown",
   "id": "66a5256c",
   "metadata": {},
   "source": [
    "# Data cleaning"
   ]
  },
  {
   "cell_type": "code",
   "execution_count": 13,
   "id": "32ca3401",
   "metadata": {},
   "outputs": [],
   "source": [
    "#delete duplicate value\n",
    "def duplicateValue (data):\n",
    "    data.drop_duplicates(inplace=True)\n",
    "    return data\n",
    "data = duplicateValue(data)"
   ]
  },
  {
   "cell_type": "code",
   "execution_count": 14,
   "id": "b9d19df3",
   "metadata": {},
   "outputs": [
    {
     "data": {
      "text/plain": [
       "NO               0\n",
       "SUPPLIER         0\n",
       "DATE             0\n",
       "WEHICAL          1\n",
       "WEIGHT           0\n",
       "AMOUNT           0\n",
       "RATE             0\n",
       "MONTH            0\n",
       "FIREWOOD TYPE    0\n",
       "RAINY SEASON     0\n",
       "dtype: int64"
      ]
     },
     "execution_count": 14,
     "metadata": {},
     "output_type": "execute_result"
    }
   ],
   "source": [
    "#remove null value\n",
    "data.isnull().sum()"
   ]
  },
  {
   "cell_type": "code",
   "execution_count": 15,
   "id": "1f9ec758",
   "metadata": {},
   "outputs": [],
   "source": [
    "data = data.dropna()"
   ]
  },
  {
   "cell_type": "code",
   "execution_count": 16,
   "id": "6b63fef7",
   "metadata": {},
   "outputs": [
    {
     "data": {
      "text/plain": [
       "NO               0\n",
       "SUPPLIER         0\n",
       "DATE             0\n",
       "WEHICAL          0\n",
       "WEIGHT           0\n",
       "AMOUNT           0\n",
       "RATE             0\n",
       "MONTH            0\n",
       "FIREWOOD TYPE    0\n",
       "RAINY SEASON     0\n",
       "dtype: int64"
      ]
     },
     "execution_count": 16,
     "metadata": {},
     "output_type": "execute_result"
    }
   ],
   "source": [
    "#remove null value\n",
    "data.isnull().sum()"
   ]
  },
  {
   "cell_type": "code",
   "execution_count": 17,
   "id": "dea5f545",
   "metadata": {},
   "outputs": [
    {
     "data": {
      "text/plain": [
       "(2257, 10)"
      ]
     },
     "execution_count": 17,
     "metadata": {},
     "output_type": "execute_result"
    }
   ],
   "source": [
    "import pandas as pd\n",
    "import numpy as np\n",
    "\n",
    "def remove_outliers(data, column_name, threshold):\n",
    "   \n",
    "    # Calculate the column's mean and standard deviation\n",
    "    mean = data[column_name].mean()\n",
    "    std = data[column_name].std()\n",
    "    \n",
    "    # Calculate the lower and upper bounds for outliers\n",
    "    lower_bound = mean - threshold * std\n",
    "    upper_bound = mean + threshold * std\n",
    "    \n",
    "    # Remove rows where the column value is outside the bounds\n",
    "    data = data[(data[column_name] > lower_bound) & (data[column_name] < upper_bound)]\n",
    "    \n",
    "    return data\n",
    "\n",
    "\n",
    "# Remove outliers from the 'AMOUNT \" column a threshold of 1.5\n",
    "data= remove_outliers(data, 'AMOUNT',1.5)\n",
    "\n",
    "# Check the resulting dataframe\n",
    "data.shape"
   ]
  },
  {
   "cell_type": "code",
   "execution_count": 17,
   "id": "d0a572ee",
   "metadata": {},
   "outputs": [
    {
     "data": {
      "text/plain": [
       "(1777, 10)"
      ]
     },
     "execution_count": 17,
     "metadata": {},
     "output_type": "execute_result"
    }
   ],
   "source": [
    "# Remove outliers from the 'RATE' column with a threshold of 1.5\n",
    "data= remove_outliers(data, 'RATE',1.5)\n",
    "\n",
    "# Remove outliers from the 'RAINY SEASON' column with a threshold of 1.5\n",
    "data= remove_outliers(data, 'RAINY SEASON',1.5)\n",
    "\n",
    "# Remove outliers from the 'WEIGHT' column with a threshold of 1.5\n",
    "data= remove_outliers(data, 'WEIGHT',1.5)\n",
    "\n",
    "\n",
    "# Check the resulting dataframe\n",
    "data.shape"
   ]
  },
  {
   "cell_type": "markdown",
   "id": "16b430c0",
   "metadata": {},
   "source": [
    "# Visulization Data"
   ]
  },
  {
   "cell_type": "code",
   "execution_count": 18,
   "id": "98fa8c16",
   "metadata": {},
   "outputs": [],
   "source": [
    "import matplotlib.pyplot as plt"
   ]
  },
  {
   "cell_type": "code",
   "execution_count": 19,
   "id": "864135e2",
   "metadata": {},
   "outputs": [
    {
     "data": {
      "image/png": "[encoded data removed]",
      "text/plain": [
       "<Figure size 3000x2500 with 6 Axes>"
      ]
     },
     "metadata": {},
     "output_type": "display_data"
    }
   ],
   "source": [
    "def visualize_data(data):\n",
    "    \n",
    "    # Histograms\n",
    "    data.hist(bins=50, figsize=(30, 25))\n",
    "    plt.suptitle(\"Histograms \")\n",
    "    plt.show()\n",
    "    \n",
    "visualize_data(data)"
   ]
  },
  {
   "cell_type": "code",
   "execution_count": 20,
   "id": "1696c794",
   "metadata": {},
   "outputs": [
    {
     "data": {
      "image/png": "[encoded data removed]",
      "text/plain": [
       "<Figure size 640x480 with 1 Axes>"
      ]
     },
     "metadata": {},
     "output_type": "display_data"
    },
    {
     "data": {
      "image/png": "[encoded data removed]",
      "text/plain": [
       "<Figure size 640x480 with 1 Axes>"
      ]
     },
     "metadata": {},
     "output_type": "display_data"
    },
    {
     "data": {
      "image/png": "[encoded data removed]",
      "text/plain": [
       "<Figure size 640x480 with 1 Axes>"
      ]
     },
     "metadata": {},
     "output_type": "display_data"
    }
   ],
   "source": [
    "#Boxplot\n",
    "def plot_boxplot(df, ft):\n",
    "    df.boxplot(column=[ft])\n",
    "    plt.grid(False)\n",
    "    plt.show()\n",
    "    \n",
    "plot_boxplot(data, \"WEIGHT\" )\n",
    "plot_boxplot(data, \"RATE\" )\n",
    "plot_boxplot(data, \"AMOUNT\" )"
   ]
  },
  {
   "cell_type": "markdown",
   "id": "0d349761",
   "metadata": {},
   "source": [
    "# Delete unnecessary columns"
   ]
  },
  {
   "cell_type": "code",
   "execution_count": 21,
   "id": "8cf9f654",
   "metadata": {},
   "outputs": [],
   "source": [
    "data = data.drop(columns=['NO', 'SUPPLIER', 'DATE', 'WEHICAL'])"
   ]
  },
  {
   "cell_type": "code",
   "execution_count": 22,
   "id": "cda64331",
   "metadata": {},
   "outputs": [
    {
     "data": {
      "text/html": [
       "<div>\n",
       "<style scoped>\n",
       "    .dataframe tbody tr th:only-of-type {\n",
       "        vertical-align: middle;\n",
       "    }\n",
       "\n",
       "    .dataframe tbody tr th {\n",
       "        vertical-align: top;\n",
       "    }\n",
       "\n",
       "    .dataframe thead th {\n",
       "        text-align: right;\n",
       "    }\n",
       "</style>\n",
       "<table border=\"1\" class=\"dataframe\">\n",
       "  <thead>\n",
       "    <tr style=\"text-align: right;\">\n",
       "      <th></th>\n",
       "      <th>WEIGHT</th>\n",
       "      <th>AMOUNT</th>\n",
       "      <th>RATE</th>\n",
       "      <th>MONTH</th>\n",
       "      <th>FIREWOOD TYPE</th>\n",
       "      <th>RAINY SEASON</th>\n",
       "    </tr>\n",
       "  </thead>\n",
       "  <tbody>\n",
       "    <tr>\n",
       "      <th>0</th>\n",
       "      <td>2210</td>\n",
       "      <td>8840</td>\n",
       "      <td>4.0</td>\n",
       "      <td>May</td>\n",
       "      <td>Other</td>\n",
       "      <td>1</td>\n",
       "    </tr>\n",
       "    <tr>\n",
       "      <th>1</th>\n",
       "      <td>2100</td>\n",
       "      <td>8400</td>\n",
       "      <td>4.0</td>\n",
       "      <td>May</td>\n",
       "      <td>Mahogany</td>\n",
       "      <td>1</td>\n",
       "    </tr>\n",
       "    <tr>\n",
       "      <th>2</th>\n",
       "      <td>2970</td>\n",
       "      <td>11880</td>\n",
       "      <td>4.0</td>\n",
       "      <td>May</td>\n",
       "      <td>Teak</td>\n",
       "      <td>1</td>\n",
       "    </tr>\n",
       "    <tr>\n",
       "      <th>3</th>\n",
       "      <td>2280</td>\n",
       "      <td>9120</td>\n",
       "      <td>4.0</td>\n",
       "      <td>May</td>\n",
       "      <td>Cashew</td>\n",
       "      <td>1</td>\n",
       "    </tr>\n",
       "    <tr>\n",
       "      <th>4</th>\n",
       "      <td>2390</td>\n",
       "      <td>9560</td>\n",
       "      <td>4.0</td>\n",
       "      <td>May</td>\n",
       "      <td>Mango</td>\n",
       "      <td>1</td>\n",
       "    </tr>\n",
       "  </tbody>\n",
       "</table>\n",
       "</div>"
      ],
      "text/plain": [
       "   WEIGHT  AMOUNT  RATE MONTH FIREWOOD TYPE  RAINY SEASON\n",
       "0    2210    8840   4.0   May         Other             1\n",
       "1    2100    8400   4.0   May      Mahogany             1\n",
       "2    2970   11880   4.0   May          Teak             1\n",
       "3    2280    9120   4.0   May        Cashew             1\n",
       "4    2390    9560   4.0   May         Mango             1"
      ]
     },
     "execution_count": 22,
     "metadata": {},
     "output_type": "execute_result"
    }
   ],
   "source": [
    "data.head()"
   ]
  },
  {
   "cell_type": "markdown",
   "id": "c53062a5",
   "metadata": {},
   "source": [
    "# One-Hot Encoding"
   ]
  },
  {
   "cell_type": "code",
   "execution_count": 23,
   "id": "2e2a5e59",
   "metadata": {},
   "outputs": [],
   "source": [
    "data = pd.get_dummies(data)"
   ]
  },
  {
   "cell_type": "code",
   "execution_count": 24,
   "id": "23871de8",
   "metadata": {},
   "outputs": [
    {
     "data": {
      "text/html": [
       "<div>\n",
       "<style scoped>\n",
       "    .dataframe tbody tr th:only-of-type {\n",
       "        vertical-align: middle;\n",
       "    }\n",
       "\n",
       "    .dataframe tbody tr th {\n",
       "        vertical-align: top;\n",
       "    }\n",
       "\n",
       "    .dataframe thead th {\n",
       "        text-align: right;\n",
       "    }\n",
       "</style>\n",
       "<table border=\"1\" class=\"dataframe\">\n",
       "  <thead>\n",
       "    <tr style=\"text-align: right;\">\n",
       "      <th></th>\n",
       "      <th>WEIGHT</th>\n",
       "      <th>AMOUNT</th>\n",
       "      <th>RATE</th>\n",
       "      <th>RAINY SEASON</th>\n",
       "      <th>MONTH_April</th>\n",
       "      <th>MONTH_August</th>\n",
       "      <th>MONTH_December</th>\n",
       "      <th>MONTH_February</th>\n",
       "      <th>MONTH_January</th>\n",
       "      <th>MONTH_July</th>\n",
       "      <th>...</th>\n",
       "      <th>MONTH_November</th>\n",
       "      <th>MONTH_October</th>\n",
       "      <th>MONTH_September</th>\n",
       "      <th>FIREWOOD TYPE_Cashew</th>\n",
       "      <th>FIREWOOD TYPE_Halmilla</th>\n",
       "      <th>FIREWOOD TYPE_Mahogany</th>\n",
       "      <th>FIREWOOD TYPE_Mango</th>\n",
       "      <th>FIREWOOD TYPE_Mara</th>\n",
       "      <th>FIREWOOD TYPE_Other</th>\n",
       "      <th>FIREWOOD TYPE_Teak</th>\n",
       "    </tr>\n",
       "  </thead>\n",
       "  <tbody>\n",
       "    <tr>\n",
       "      <th>0</th>\n",
       "      <td>2210</td>\n",
       "      <td>8840</td>\n",
       "      <td>4.0</td>\n",
       "      <td>1</td>\n",
       "      <td>0</td>\n",
       "      <td>0</td>\n",
       "      <td>0</td>\n",
       "      <td>0</td>\n",
       "      <td>0</td>\n",
       "      <td>0</td>\n",
       "      <td>...</td>\n",
       "      <td>0</td>\n",
       "      <td>0</td>\n",
       "      <td>0</td>\n",
       "      <td>0</td>\n",
       "      <td>0</td>\n",
       "      <td>0</td>\n",
       "      <td>0</td>\n",
       "      <td>0</td>\n",
       "      <td>1</td>\n",
       "      <td>0</td>\n",
       "    </tr>\n",
       "    <tr>\n",
       "      <th>1</th>\n",
       "      <td>2100</td>\n",
       "      <td>8400</td>\n",
       "      <td>4.0</td>\n",
       "      <td>1</td>\n",
       "      <td>0</td>\n",
       "      <td>0</td>\n",
       "      <td>0</td>\n",
       "      <td>0</td>\n",
       "      <td>0</td>\n",
       "      <td>0</td>\n",
       "      <td>...</td>\n",
       "      <td>0</td>\n",
       "      <td>0</td>\n",
       "      <td>0</td>\n",
       "      <td>0</td>\n",
       "      <td>0</td>\n",
       "      <td>1</td>\n",
       "      <td>0</td>\n",
       "      <td>0</td>\n",
       "      <td>0</td>\n",
       "      <td>0</td>\n",
       "    </tr>\n",
       "    <tr>\n",
       "      <th>2</th>\n",
       "      <td>2970</td>\n",
       "      <td>11880</td>\n",
       "      <td>4.0</td>\n",
       "      <td>1</td>\n",
       "      <td>0</td>\n",
       "      <td>0</td>\n",
       "      <td>0</td>\n",
       "      <td>0</td>\n",
       "      <td>0</td>\n",
       "      <td>0</td>\n",
       "      <td>...</td>\n",
       "      <td>0</td>\n",
       "      <td>0</td>\n",
       "      <td>0</td>\n",
       "      <td>0</td>\n",
       "      <td>0</td>\n",
       "      <td>0</td>\n",
       "      <td>0</td>\n",
       "      <td>0</td>\n",
       "      <td>0</td>\n",
       "      <td>1</td>\n",
       "    </tr>\n",
       "    <tr>\n",
       "      <th>3</th>\n",
       "      <td>2280</td>\n",
       "      <td>9120</td>\n",
       "      <td>4.0</td>\n",
       "      <td>1</td>\n",
       "      <td>0</td>\n",
       "      <td>0</td>\n",
       "      <td>0</td>\n",
       "      <td>0</td>\n",
       "      <td>0</td>\n",
       "      <td>0</td>\n",
       "      <td>...</td>\n",
       "      <td>0</td>\n",
       "      <td>0</td>\n",
       "      <td>0</td>\n",
       "      <td>1</td>\n",
       "      <td>0</td>\n",
       "      <td>0</td>\n",
       "      <td>0</td>\n",
       "      <td>0</td>\n",
       "      <td>0</td>\n",
       "      <td>0</td>\n",
       "    </tr>\n",
       "    <tr>\n",
       "      <th>4</th>\n",
       "      <td>2390</td>\n",
       "      <td>9560</td>\n",
       "      <td>4.0</td>\n",
       "      <td>1</td>\n",
       "      <td>0</td>\n",
       "      <td>0</td>\n",
       "      <td>0</td>\n",
       "      <td>0</td>\n",
       "      <td>0</td>\n",
       "      <td>0</td>\n",
       "      <td>...</td>\n",
       "      <td>0</td>\n",
       "      <td>0</td>\n",
       "      <td>0</td>\n",
       "      <td>0</td>\n",
       "      <td>0</td>\n",
       "      <td>0</td>\n",
       "      <td>1</td>\n",
       "      <td>0</td>\n",
       "      <td>0</td>\n",
       "      <td>0</td>\n",
       "    </tr>\n",
       "  </tbody>\n",
       "</table>\n",
       "<p>5 rows × 23 columns</p>\n",
       "</div>"
      ],
      "text/plain": [
       "   WEIGHT  AMOUNT  RATE  RAINY SEASON  MONTH_April  MONTH_August  \\\n",
       "0    2210    8840   4.0             1            0             0   \n",
       "1    2100    8400   4.0             1            0             0   \n",
       "2    2970   11880   4.0             1            0             0   \n",
       "3    2280    9120   4.0             1            0             0   \n",
       "4    2390    9560   4.0             1            0             0   \n",
       "\n",
       "   MONTH_December  MONTH_February  MONTH_January  MONTH_July  ...  \\\n",
       "0               0               0              0           0  ...   \n",
       "1               0               0              0           0  ...   \n",
       "2               0               0              0           0  ...   \n",
       "3               0               0              0           0  ...   \n",
       "4               0               0              0           0  ...   \n",
       "\n",
       "   MONTH_November  MONTH_October  MONTH_September  FIREWOOD TYPE_Cashew  \\\n",
       "0               0              0                0                     0   \n",
       "1               0              0                0                     0   \n",
       "2               0              0                0                     0   \n",
       "3               0              0                0                     1   \n",
       "4               0              0                0                     0   \n",
       "\n",
       "   FIREWOOD TYPE_Halmilla  FIREWOOD TYPE_Mahogany  FIREWOOD TYPE_Mango  \\\n",
       "0                       0                       0                    0   \n",
       "1                       0                       1                    0   \n",
       "2                       0                       0                    0   \n",
       "3                       0                       0                    0   \n",
       "4                       0                       0                    1   \n",
       "\n",
       "   FIREWOOD TYPE_Mara  FIREWOOD TYPE_Other  FIREWOOD TYPE_Teak  \n",
       "0                   0                    1                   0  \n",
       "1                   0                    0                   0  \n",
       "2                   0                    0                   1  \n",
       "3                   0                    0                   0  \n",
       "4                   0                    0                   0  \n",
       "\n",
       "[5 rows x 23 columns]"
      ]
     },
     "execution_count": 24,
     "metadata": {},
     "output_type": "execute_result"
    }
   ],
   "source": [
    "data.head()"
   ]
  },
  {
   "cell_type": "code",
   "execution_count": 25,
   "id": "e298622e",
   "metadata": {},
   "outputs": [
    {
     "data": {
      "text/plain": [
       "(1777, 23)"
      ]
     },
     "execution_count": 25,
     "metadata": {},
     "output_type": "execute_result"
    }
   ],
   "source": [
    "data.shape"
   ]
  },
  {
   "cell_type": "code",
   "execution_count": 26,
   "id": "9b57c2ed",
   "metadata": {},
   "outputs": [
    {
     "data": {
      "text/plain": [
       "WEIGHT                    0.763687\n",
       "AMOUNT                    1.000000\n",
       "RATE                      0.615767\n",
       "RAINY SEASON             -0.006349\n",
       "MONTH_April               0.110442\n",
       "MONTH_August             -0.077753\n",
       "MONTH_December            0.263667\n",
       "MONTH_February            0.018690\n",
       "MONTH_January             0.019642\n",
       "MONTH_July               -0.126573\n",
       "MONTH_June               -0.043918\n",
       "MONTH_March               0.012192\n",
       "MONTH_May                 0.041226\n",
       "MONTH_November           -0.042543\n",
       "MONTH_October            -0.128595\n",
       "MONTH_September           0.002466\n",
       "FIREWOOD TYPE_Cashew     -0.028832\n",
       "FIREWOOD TYPE_Halmilla    0.044062\n",
       "FIREWOOD TYPE_Mahogany    0.004400\n",
       "FIREWOOD TYPE_Mango       0.029854\n",
       "FIREWOOD TYPE_Mara       -0.000624\n",
       "FIREWOOD TYPE_Other      -0.037732\n",
       "FIREWOOD TYPE_Teak       -0.005117\n",
       "Name: AMOUNT, dtype: float64"
      ]
     },
     "execution_count": 26,
     "metadata": {},
     "output_type": "execute_result"
    }
   ],
   "source": [
    "data.corr()['AMOUNT']"
   ]
  },
  {
   "cell_type": "markdown",
   "id": "bd965459",
   "metadata": {},
   "source": [
    "# Model Building and Selection"
   ]
  },
  {
   "cell_type": "code",
   "execution_count": 27,
   "id": "9940ed58",
   "metadata": {},
   "outputs": [],
   "source": [
    "X = data.drop('AMOUNT', axis=1)\n",
    "y = data['AMOUNT']"
   ]
  },
  {
   "cell_type": "code",
   "execution_count": 28,
   "id": "0743d327",
   "metadata": {},
   "outputs": [
    {
     "name": "stdout",
     "output_type": "stream",
     "text": [
      "Collecting scikit-learn==1.3.1\n",
      "  Downloading scikit_learn-1.3.1-cp39-cp39-win_amd64.whl (9.3 MB)\n",
      "     ---------------------------------------- 9.3/9.3 MB 3.5 MB/s eta 0:00:00\n",
      "Collecting joblib>=1.1.1\n",
      "  Using cached joblib-1.3.2-py3-none-any.whl (302 kB)\n",
      "Requirement already satisfied: threadpoolctl>=2.0.0 in c:\\users\\ravin\\anaconda3\\lib\\site-packages (from scikit-learn==1.3.1) (2.2.0)\n",
      "Requirement already satisfied: numpy<2.0,>=1.17.3 in c:\\users\\ravin\\anaconda3\\lib\\site-packages (from scikit-learn==1.3.1) (1.21.5)\n",
      "Requirement already satisfied: scipy>=1.5.0 in c:\\users\\ravin\\anaconda3\\lib\\site-packages (from scikit-learn==1.3.1) (1.9.1)\n",
      "Installing collected packages: joblib, scikit-learn\n",
      "  Attempting uninstall: joblib\n",
      "    Found existing installation: joblib 1.1.0\n",
      "    Uninstalling joblib-1.1.0:\n",
      "      Successfully uninstalled joblib-1.1.0\n",
      "  Attempting uninstall: scikit-learn\n",
      "    Found existing installation: scikit-learn 1.0.2\n",
      "    Uninstalling scikit-learn-1.0.2:\n",
      "      Successfully uninstalled scikit-learn-1.0.2\n",
      "Successfully installed joblib-1.3.2 scikit-learn-1.3.1\n",
      "Note: you may need to restart the kernel to use updated packages.\n"
     ]
    }
   ],
   "source": [
    "pip install scikit-learn==1.3.1"
   ]
  },
  {
   "cell_type": "markdown",
   "id": "894dc279",
   "metadata": {},
   "source": [
    "# Divide dataset into training and testing set"
   ]
  },
  {
   "cell_type": "code",
   "execution_count": 29,
   "id": "1792fc27",
   "metadata": {},
   "outputs": [],
   "source": [
    "from sklearn.model_selection import train_test_split\n",
    "X_train, X_test, y_train, y_test = train_test_split(X, y, test_size = 0.20)"
   ]
  },
  {
   "cell_type": "code",
   "execution_count": 30,
   "id": "6891e654",
   "metadata": {},
   "outputs": [
    {
     "data": {
      "text/plain": [
       "((1421, 22), (356, 22))"
      ]
     },
     "execution_count": 30,
     "metadata": {},
     "output_type": "execute_result"
    }
   ],
   "source": [
    "X_train.shape, X_test.shape"
   ]
  },
  {
   "cell_type": "markdown",
   "id": "0439d5fa",
   "metadata": {},
   "source": [
    "# model training"
   ]
  },
  {
   "cell_type": "code",
   "execution_count": 31,
   "id": "d8bd119c",
   "metadata": {},
   "outputs": [],
   "source": [
    "def model_acc(model):\n",
    "    model.fit(X_train, y_train)\n",
    "    acc = model.score(X_test, y_test)\n",
    "    print(str(model)+ ' --> ' +str(acc))"
   ]
  },
  {
   "cell_type": "code",
   "execution_count": 32,
   "id": "930b14a8",
   "metadata": {},
   "outputs": [
    {
     "name": "stdout",
     "output_type": "stream",
     "text": [
      "LinearRegression() --> 0.9588132939553085\n",
      "Lasso() --> 0.9590076667576686\n",
      "DecisionTreeRegressor() --> 0.9938107626266813\n",
      "RandomForestRegressor() --> 0.9958324254333802\n"
     ]
    }
   ],
   "source": [
    "from sklearn.linear_model import LinearRegression\n",
    "lr = LinearRegression()\n",
    "model_acc(lr)\n",
    "\n",
    "from sklearn.linear_model import Lasso\n",
    "lasso = Lasso()\n",
    "model_acc(lasso)\n",
    "\n",
    "from sklearn.tree import DecisionTreeRegressor\n",
    "dt = DecisionTreeRegressor()\n",
    "model_acc(dt)\n",
    "\n",
    "from sklearn.ensemble import RandomForestRegressor\n",
    "rf = RandomForestRegressor()\n",
    "model_acc(rf)"
   ]
  },
  {
   "cell_type": "markdown",
   "id": "694948be",
   "metadata": {},
   "source": [
    "# Hyperparameter tuning"
   ]
  },
  {
   "cell_type": "code",
   "execution_count": 33,
   "id": "138ce3a7",
   "metadata": {},
   "outputs": [
    {
     "data": {
      "text/plain": [
       "0.9958367782930255"
      ]
     },
     "execution_count": 33,
     "metadata": {},
     "output_type": "execute_result"
    }
   ],
   "source": [
    "from sklearn.model_selection import GridSearchCV\n",
    "\n",
    "parameters = {'n_estimators':[10, 50, 100],\n",
    "              'criterion':['squared_error','absolute_error','poisson']}\n",
    "\n",
    "grid_obj = GridSearchCV(estimator=rf, param_grid=parameters)\n",
    "\n",
    "grid_fit = grid_obj.fit(X_train, y_train)\n",
    "\n",
    "best_model = grid_fit.best_estimator_\n",
    "\n",
    "best_model.score(X_test, y_test)"
   ]
  },
  {
   "cell_type": "code",
   "execution_count": 34,
   "id": "42403bbf",
   "metadata": {},
   "outputs": [],
   "source": [
    "import pickle\n",
    "with open('PREDICTION_FIREWOOD_NEW_UPDATE.pickle', 'wb') as file:\n",
    "    pickle.dump(best_model, file)"
   ]
  },
  {
   "cell_type": "code",
   "execution_count": 35,
   "id": "c1fc577e",
   "metadata": {},
   "outputs": [
    {
     "data": {
      "text/plain": [
       "Index(['WEIGHT', 'RATE', 'RAINY SEASON', 'MONTH_April', 'MONTH_August',\n",
       "       'MONTH_December', 'MONTH_February', 'MONTH_January', 'MONTH_July',\n",
       "       'MONTH_June', 'MONTH_March', 'MONTH_May', 'MONTH_November',\n",
       "       'MONTH_October', 'MONTH_September', 'FIREWOOD TYPE_Cashew',\n",
       "       'FIREWOOD TYPE_Halmilla', 'FIREWOOD TYPE_Mahogany',\n",
       "       'FIREWOOD TYPE_Mango', 'FIREWOOD TYPE_Mara', 'FIREWOOD TYPE_Other',\n",
       "       'FIREWOOD TYPE_Teak'],\n",
       "      dtype='object')"
      ]
     },
     "execution_count": 35,
     "metadata": {},
     "output_type": "execute_result"
    }
   ],
   "source": [
    "X_test.columns"
   ]
  },
  {
   "cell_type": "code",
   "execution_count": 39,
   "id": "4e78be4c",
   "metadata": {},
   "outputs": [
    {
     "name": "stderr",
     "output_type": "stream",
     "text": [
      "C:\\Users\\ravin\\anaconda3\\lib\\site-packages\\sklearn\\base.py:465: UserWarning: X does not have valid feature names, but RandomForestRegressor was fitted with feature names\n",
      "  warnings.warn(\n"
     ]
    },
    {
     "data": {
      "text/plain": [
       "array([10777.])"
      ]
     },
     "execution_count": 39,
     "metadata": {},
     "output_type": "execute_result"
    }
   ],
   "source": [
    "best_model.predict([[125,10, 0, 0, 0, 0, 0, 0, 1, 0, 0, 0, 0, 0, 0, 0, 0, 0, 1, 0, 0, 0,]])"
   ]
  },
  {
   "cell_type": "code",
   "execution_count": null,
   "id": "75c84735",
   "metadata": {},
   "outputs": [],
   "source": []
  },
  {
   "cell_type": "code",
   "execution_count": null,
   "id": "b031250f",
   "metadata": {},
   "outputs": [],
   "source": []
  }
 ],
 "metadata": {
  "kernelspec": {
   "display_name": "Python 3 (ipykernel)",
   "language": "python",
   "name": "python3"
  },
  "language_info": {
   "codemirror_mode": {
    "name": "ipython",
    "version": 3
   },
   "file_extension": ".py",
   "mimetype": "text/x-python",
   "name": "python",
   "nbconvert_exporter": "python",
   "pygments_lexer": "ipython3",
   "version": "3.9.13"
  }
 },
 "nbformat": 4,
 "nbformat_minor": 5
}
